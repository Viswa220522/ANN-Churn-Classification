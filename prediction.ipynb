{
 "cells": [
  {
   "cell_type": "code",
   "execution_count": 2,
   "id": "e6e3a8cb-68bc-45df-be2f-db1c60a8aa47",
   "metadata": {},
   "outputs": [],
   "source": [
    "### Import the libraries\n",
    "import tensorflow as tf\n",
    "# from tensorflow.keras.models import sequential\n",
    "# from tensorflow.keras.layers import Dense\n",
    "from tensorflow.keras.models import load_model\n",
    "import pickle\n",
    "import pandas as pd\n",
    "import numpy as np"
   ]
  },
  {
   "cell_type": "code",
   "execution_count": 6,
   "id": "d52db078-eecb-4ae2-a390-f9a3574fb66e",
   "metadata": {},
   "outputs": [],
   "source": [
    "## load all pickel files\n",
    "\n",
    "ann_model = load_model('ann_model.h5')\n",
    "## load Scaler, label_encoder and OHE pickles\n",
    "with open('scaler.pkl', 'rb') as file:\n",
    "    scaler = pickle.load(file)\n",
    "\n",
    "with open('ohe_geography.pkl', 'rb') as file:\n",
    "    ohe_geography = pickle.load(file)\n",
    "\n",
    "with open('label_encoder_gender.pkl', 'rb') as file:\n",
    "    label_encoder_gender = pickle.load(file)"
   ]
  },
  {
   "cell_type": "code",
   "execution_count": 8,
   "id": "0baa863d-aa08-42b1-8978-298a715bccad",
   "metadata": {},
   "outputs": [],
   "source": [
    "# Example input data\n",
    "input_data = {\n",
    "    'CreditScore': 600,\n",
    "    'Geography': 'France',\n",
    "    'Gender': 'Male',\n",
    "    'Age': 40,\n",
    "    'Tenure': 3,\n",
    "    'Balance': 60000,\n",
    "    'NumOfProducts': 2,\n",
    "    'HasCrCard': 1,\n",
    "    'IsActiveMember': 1,\n",
    "    'EstimatedSalary': 50000\n",
    "}"
   ]
  },
  {
   "cell_type": "code",
   "execution_count": 21,
   "id": "14057a79-a71d-42f0-a114-6f8e0762c9b2",
   "metadata": {},
   "outputs": [],
   "source": [
    "## process inputs\n",
    "input_data_df = pd.DataFrame({key: [value]  for key, value in input_data.items()})\n",
    "input_data_df['Gender'] = label_encoder_gender.transform(input_data_df['Gender'])\n",
    "geo_cols = ohe_geography.transform(input_data_df[['Geography']])\n",
    "geo_df = pd.DataFrame(geo_cols, columns = ohe_geography.get_feature_names_out())\n",
    "df = pd.concat([geo_df, input_data_df.drop(['Geography'], axis = 1)], axis = 1)\n",
    "df = scaler.transform(df)"
   ]
  },
  {
   "cell_type": "code",
   "execution_count": 22,
   "id": "0f88800d-ddf4-4853-b633-21ccc8a8ac91",
   "metadata": {},
   "outputs": [
    {
     "data": {
      "text/plain": [
       "array([[ 1.00150113, -0.57946723, -0.57638802, -0.53598516,  0.91324755,\n",
       "         0.10479359, -0.69539349, -0.25781119,  0.80843615,  0.64920267,\n",
       "         0.97481699, -0.87683221]])"
      ]
     },
     "execution_count": 22,
     "metadata": {},
     "output_type": "execute_result"
    }
   ],
   "source": [
    "df"
   ]
  },
  {
   "cell_type": "code",
   "execution_count": 23,
   "id": "38a93408-97a1-4e1d-9e50-975dfe235def",
   "metadata": {},
   "outputs": [
    {
     "name": "stdout",
     "output_type": "stream",
     "text": [
      "1/1 [==============================] - 0s 207ms/step\n"
     ]
    },
    {
     "data": {
      "text/plain": [
       "array([[0.02642941]], dtype=float32)"
      ]
     },
     "execution_count": 23,
     "metadata": {},
     "output_type": "execute_result"
    }
   ],
   "source": [
    "## Predict Churn\n",
    "prediction = ann_model.predict(df)\n",
    "prediction"
   ]
  },
  {
   "cell_type": "code",
   "execution_count": 25,
   "id": "1502c65e-50de-443f-ab30-74c6803e1dc5",
   "metadata": {},
   "outputs": [],
   "source": [
    "prediction_proba = prediction[0][0]"
   ]
  },
  {
   "cell_type": "code",
   "execution_count": 27,
   "id": "46763dfa-88b8-409a-a333-03d74fa9ef9b",
   "metadata": {},
   "outputs": [
    {
     "name": "stdout",
     "output_type": "stream",
     "text": [
      "The customer is not likely to chrun\n"
     ]
    }
   ],
   "source": [
    "if prediction_proba > 0.5:\n",
    "    print('The customer is likly to chrun')\n",
    "else:\n",
    "    print('The customer is not likely to chrun')"
   ]
  },
  {
   "cell_type": "code",
   "execution_count": null,
   "id": "ee883e5b-7d08-45d7-b8c3-fe26e0d2c1dd",
   "metadata": {},
   "outputs": [],
   "source": []
  }
 ],
 "metadata": {
  "kernelspec": {
   "display_name": "Python 3 (ipykernel)",
   "language": "python",
   "name": "python3"
  },
  "language_info": {
   "codemirror_mode": {
    "name": "ipython",
    "version": 3
   },
   "file_extension": ".py",
   "mimetype": "text/x-python",
   "name": "python",
   "nbconvert_exporter": "python",
   "pygments_lexer": "ipython3",
   "version": "3.11.14"
  }
 },
 "nbformat": 4,
 "nbformat_minor": 5
}
